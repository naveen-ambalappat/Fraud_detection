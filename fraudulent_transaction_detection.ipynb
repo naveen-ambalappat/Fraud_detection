{
 "cells": [
  {
   "cell_type": "markdown",
   "metadata": {
    "id": "fYockYpPZWWr"
   },
   "source": [
    "## Case study"
   ]
  },
  {
   "cell_type": "markdown",
   "metadata": {
    "id": "zEzH3EC6ZWWs"
   },
   "source": [
    "## 1. Aims, objectives and plan "
   ]
  },
  {
   "cell_type": "markdown",
   "metadata": {
    "id": "o0i-gwSaZWWs"
   },
   "source": [
    "### a) Aims and objectives\n",
    "\n",
    "\n",
    "The aim of the project is to build a prediction model which can predict potential fraudelent transactions. The model needs to be trained using the historical data where each transaction is flagged as either normal or fraudelent.\n",
    "By keeping  £1 million as the total budget, following two requirements needs to be satisfied\n",
    "\n",
    "1) Each false positive case costs the bank  £1k. For every  £100M of non-fraudulent transactions, a maximum of 20 transcation can be wrongly predicted as fraud.\n",
    "\n",
    "2)Each false negative case costs the bank  £10k on average. For each 200k of fraudulent transactions, a maximum of 5 can be missed to be identified as Fraudulent."
   ]
  },
  {
   "cell_type": "markdown",
   "metadata": {
    "id": "-EOZTLUlZWWt"
   },
   "source": [
    "## 2. Understanding the case study"
   ]
  },
  {
   "cell_type": "markdown",
   "metadata": {
    "id": "xeLP2m5aZWWt"
   },
   "source": [
    "###  Case study analysis\n",
    "\n",
    "1. The transaction amounts are relatively smaller. Maximum amount of fraudulent transaction is 2125 and minimum amount is 0.Maximum amount of normal transaction is 25691.Mean value is coming around 88.5.\n",
    "2. There are no null values. So we don't have to work on replacing or imputing it.\n",
    "3. 99.8% of the data belongs to normal transaction and 0.17% belongs to fraud transaction.\n",
    "4.Features from V1 to V28 seems to be scaled as it has gone through the PCA process. There is no way we can identify what these features means in real world.\n",
    "5. Amount and time needs to be scaled down depending on the algorithm we will be using.\n",
    "6. This is a classification problem and need to use supervised learning algorithms like Random Forest , Decision Tree, etc\n",
    "7.Confusion matrix will be used to find the number of false positive and false negatives.\n",
    "8. We need to separately sum up fraudulent and non-fraudulent transaction amounts. Then we need to multiply the false positives by 1000 and false negatives by 10000. Then we need to see whether these values are not exceeding the limit set in the requiremen that is for every £100M of non-fraudulent transactions, a maximum of 20 transcation can be wrongly predicted as fraud and For each 200k of fraudulent transactions, a maximum of 5 can be missed to be identified as Fraudulent.\n",
    "\n"
   ]
  },
  {
   "cell_type": "markdown",
   "metadata": {},
   "source": [
    "## 3. Preprocessing"
   ]
  },
  {
   "cell_type": "markdown",
   "metadata": {
    "id": "U7kcW9MTqgIk"
   },
   "source": [
    "**Importing the libraries**"
   ]
  },
  {
   "cell_type": "code",
   "execution_count": 44,
   "metadata": {
    "id": "gu2EEk-TqTl9"
   },
   "outputs": [],
   "source": [
    "%matplotlib inline\n",
    "import pandas as pd\n",
    "import numpy as np\n",
    "import matplotlib.pyplot as plt\n",
    "from sklearn.tree import plot_tree\n",
    "from sklearn.tree import DecisionTreeClassifier\n",
    "from sklearn.model_selection import train_test_split\n",
    "from sklearn.metrics import plot_confusion_matrix\n",
    "from sklearn.metrics import recall_score\n",
    "from sklearn.metrics import precision_score\n",
    "from sklearn import tree\n",
    "from sklearn.metrics import accuracy_score\n",
    "# For Random Data\n",
    "from random import randint\n",
    "#import seaborn as sns\n",
    "\n",
    "\n",
    "from sklearn.linear_model import LogisticRegression\n",
    "from sklearn.tree import DecisionTreeClassifier\n",
    "from sklearn.ensemble import RandomForestClassifier\n",
    "\n",
    "import warnings\n",
    "warnings.filterwarnings(\"ignore\", category=FutureWarning) \n",
    "\n",
    "from sklearn.metrics import classification_report\n",
    "\n",
    "\n",
    "pd.set_option('display.max_columns', None)\n",
    "pd.set_option('display.max_rows', None)\n",
    "from sklearn.model_selection import GridSearchCV"
   ]
  },
  {
   "cell_type": "markdown",
   "metadata": {
    "id": "UdNSVhKPqnSe"
   },
   "source": [
    "**Reading Data**"
   ]
  },
  {
   "cell_type": "code",
   "execution_count": 5,
   "metadata": {
    "id": "_tXPwyJ_qGgT"
   },
   "outputs": [],
   "source": [
    "data_df=pd.read_csv(\"data.csv\")"
   ]
  },
  {
   "cell_type": "markdown",
   "metadata": {
    "id": "qaq4o6L7ZWWt"
   },
   "source": [
    "###  a) Preparing the labels appropriately\n",
    "In the data set, we have values 0 and 1 in the column Class.\n",
    "\n",
    "We will label the classes as below,\n",
    "\n",
    "0= normal\n",
    "\n",
    "1=Fraud "
   ]
  },
  {
   "cell_type": "code",
   "execution_count": 8,
   "metadata": {
    "id": "5GBkemhisDJT"
   },
   "outputs": [],
   "source": [
    "#Create a new column transaction_type which categorizes fraud and non fraud transactions based on class value\n",
    "data_df['transaction_type']=data_df['Class'].apply(lambda x: 'Normal' if x==0 else 'Fraud')"
   ]
  },
  {
   "cell_type": "code",
   "execution_count": null,
   "metadata": {
    "id": "Bj4MEijRZWWu"
   },
   "outputs": [],
   "source": [
    "total=len(data_df)\n",
    "n_fraud=data_df[data_df['Class']==1]\n",
    "n_non_fraud=data_df[data_df['Class']==0]"
   ]
  },
  {
   "cell_type": "markdown",
   "metadata": {
    "id": "fm_Ryk1SvSX7"
   },
   "source": [
    "The data is highly imbalanced with 99.8% data belonging to class 0 which non-fraudlent transactions and and only 0.19% belonging to fraud transactions"
   ]
  },
  {
   "cell_type": "code",
   "execution_count": null,
   "metadata": {
    "colab": {
     "base_uri": "https://localhost:8080/"
    },
    "id": "52UlYpgQrcxG",
    "outputId": "18533729-8934-450b-f295-b3b530f03721"
   },
   "outputs": [
    {
     "name": "stdout",
     "output_type": "stream",
     "text": [
      "Fraud percent : 0.1727485630620034 %\n",
      "Non fraud percent : 99.82725143693798 %\n"
     ]
    }
   ],
   "source": [
    "percent_fraud=len(n_fraud)/total\n",
    "percent_non_fraud=len(n_non_fraud)/total\n",
    "print('Fraud percent :',percent_fraud*100,'%')\n",
    "print('Non fraud percent :',percent_non_fraud*100,'%')"
   ]
  },
  {
   "cell_type": "code",
   "execution_count": null,
   "metadata": {
    "colab": {
     "base_uri": "https://localhost:8080/",
     "height": 348
    },
    "id": "SexMza0YscDZ",
    "outputId": "40ba0dbe-f6e5-45c5-89a0-d42765f768a7"
   },
   "outputs": [
    {
     "data": {
      "text/plain": [
       "Text(0, 0.5, 'Frequency')"
      ]
     },
     "execution_count": 23,
     "metadata": {},
     "output_type": "execute_result"
    },
    {
     "data": {
      "image/png": "[encoded data removed]",
      "text/plain": [
       "<Figure size 432x288 with 1 Axes>"
      ]
     },
     "metadata": {
      "needs_background": "light"
     },
     "output_type": "display_data"
    }
   ],
   "source": [
    "target_count = data_df.Class.value_counts()\n",
    "labels = ['non frauds','fraud']\n",
    "\n",
    "\n",
    "target_count.plot(kind='bar', title='Count (target)')\n",
    "plt.title(\"Transaction class comparison\")\n",
    "plt.xticks(range(2), labels)\n",
    "plt.xlabel(\"Class\")\n",
    "plt.ylabel(\"Frequency\")"
   ]
  },
  {
   "cell_type": "markdown",
   "metadata": {
    "id": "aQhKPYNeZWWu"
   },
   "source": [
    "###  b) Removing synonymous and noisy attributes\n"
   ]
  },
  {
   "cell_type": "markdown",
   "metadata": {
    "id": "sEJj8lNszEFL"
   },
   "source": [
    "Checking for duplicate rows"
   ]
  },
  {
   "cell_type": "code",
   "execution_count": 13,
   "metadata": {
    "colab": {
     "base_uri": "https://localhost:8080/"
    },
    "id": "kDFza3mJZWWu",
    "outputId": "d11f97b8-3c26-4b0d-e759-d9aea5051d37"
   },
   "outputs": [
    {
     "data": {
      "text/plain": [
       "True"
      ]
     },
     "execution_count": 13,
     "metadata": {},
     "output_type": "execute_result"
    }
   ],
   "source": [
    "data_df.duplicated().any()"
   ]
  },
  {
   "cell_type": "markdown",
   "metadata": {
    "id": "2svHW_xzzRO9"
   },
   "source": [
    "**observation**\n",
    "\n",
    "There are duplicate rows in the data"
   ]
  },
  {
   "cell_type": "markdown",
   "metadata": {
    "id": "kaN0hmCe0IBF"
   },
   "source": [
    "Lets drop the duplicate rows"
   ]
  },
  {
   "cell_type": "code",
   "execution_count": 14,
   "metadata": {
    "id": "DUqLfzjuzSha"
   },
   "outputs": [],
   "source": [
    "data_df=data_df.drop_duplicates(keep=False)"
   ]
  },
  {
   "cell_type": "markdown",
   "metadata": {
    "id": "o2HbrDez0gey"
   },
   "source": [
    "Shape of the data frame after dropping duplicates"
   ]
  },
  {
   "cell_type": "code",
   "execution_count": 15,
   "metadata": {
    "colab": {
     "base_uri": "https://localhost:8080/"
    },
    "id": "R6OiclXv0Yhk",
    "outputId": "c2647455-7d74-4006-d7d9-4c602ad0374e"
   },
   "outputs": [
    {
     "data": {
      "text/plain": [
       "(282953, 32)"
      ]
     },
     "execution_count": 15,
     "metadata": {},
     "output_type": "execute_result"
    }
   ],
   "source": [
    "data_df.shape"
   ]
  },
  {
   "cell_type": "markdown",
   "metadata": {
    "id": "9eVpyELSZWWu"
   },
   "source": [
    "###  c) Dealing with missing values\n",
    "There are no missing values in the data set."
   ]
  },
  {
   "cell_type": "code",
   "execution_count": null,
   "metadata": {
    "colab": {
     "base_uri": "https://localhost:8080/"
    },
    "id": "g6QEJbBHZWWv",
    "outputId": "c5157864-0028-4fbf-fe0a-303987a957e6"
   },
   "outputs": [
    {
     "data": {
      "text/plain": [
       "Time      0\n",
       "V1        0\n",
       "V2        0\n",
       "V3        0\n",
       "V4        0\n",
       "V5        0\n",
       "V6        0\n",
       "V7        0\n",
       "V8        0\n",
       "V9        0\n",
       "V10       0\n",
       "V11       0\n",
       "V12       0\n",
       "V13       0\n",
       "V14       0\n",
       "V15       0\n",
       "V16       0\n",
       "V17       0\n",
       "V18       0\n",
       "V19       0\n",
       "V20       0\n",
       "V21       0\n",
       "V22       0\n",
       "V23       0\n",
       "V24       0\n",
       "V25       0\n",
       "V26       0\n",
       "V27       0\n",
       "V28       0\n",
       "Amount    0\n",
       "Class     0\n",
       "dtype: int64"
      ]
     },
     "execution_count": 20,
     "metadata": {},
     "output_type": "execute_result"
    }
   ],
   "source": [
    "data_df.isna().sum()"
   ]
  },
  {
   "cell_type": "markdown",
   "metadata": {
    "id": "ozrCmV-SZWWv"
   },
   "source": [
    "###  d) Rescaling if necessary\n",
    "Lets find out the maximum and minimum values of each column. This will help us to decide if rescaling is necessary\n"
   ]
  },
  {
   "cell_type": "code",
   "execution_count": null,
   "metadata": {
    "colab": {
     "base_uri": "https://localhost:8080/",
     "height": 319
    },
    "id": "un8E3cuG3RZn",
    "outputId": "65fe3754-553a-413a-a467-8a3270b5656b"
   },
   "outputs": [
    {
     "data": {
      "text/html": [
       "<div>\n",
       "<style scoped>\n",
       "    .dataframe tbody tr th:only-of-type {\n",
       "        vertical-align: middle;\n",
       "    }\n",
       "\n",
       "    .dataframe tbody tr th {\n",
       "        vertical-align: top;\n",
       "    }\n",
       "\n",
       "    .dataframe thead th {\n",
       "        text-align: right;\n",
       "    }\n",
       "</style>\n",
       "<table border=\"1\" class=\"dataframe\">\n",
       "  <thead>\n",
       "    <tr style=\"text-align: right;\">\n",
       "      <th></th>\n",
       "      <th>Time</th>\n",
       "      <th>V1</th>\n",
       "      <th>V2</th>\n",
       "      <th>V3</th>\n",
       "      <th>V4</th>\n",
       "      <th>V5</th>\n",
       "      <th>V6</th>\n",
       "      <th>V7</th>\n",
       "      <th>V8</th>\n",
       "      <th>V9</th>\n",
       "      <th>V10</th>\n",
       "      <th>V11</th>\n",
       "      <th>V12</th>\n",
       "      <th>V13</th>\n",
       "      <th>V14</th>\n",
       "      <th>V15</th>\n",
       "      <th>V16</th>\n",
       "      <th>V17</th>\n",
       "      <th>V18</th>\n",
       "      <th>V19</th>\n",
       "      <th>V20</th>\n",
       "      <th>V21</th>\n",
       "      <th>V22</th>\n",
       "      <th>V23</th>\n",
       "      <th>V24</th>\n",
       "      <th>V25</th>\n",
       "      <th>V26</th>\n",
       "      <th>V27</th>\n",
       "      <th>V28</th>\n",
       "      <th>Amount</th>\n",
       "      <th>Class</th>\n",
       "    </tr>\n",
       "  </thead>\n",
       "  <tbody>\n",
       "    <tr>\n",
       "      <th>count</th>\n",
       "      <td>282953.000000</td>\n",
       "      <td>282953.000000</td>\n",
       "      <td>282953.000000</td>\n",
       "      <td>282953.000000</td>\n",
       "      <td>282953.000000</td>\n",
       "      <td>282953.000000</td>\n",
       "      <td>282953.000000</td>\n",
       "      <td>282953.000000</td>\n",
       "      <td>282953.000000</td>\n",
       "      <td>282953.000000</td>\n",
       "      <td>282953.000000</td>\n",
       "      <td>282953.000000</td>\n",
       "      <td>282953.000000</td>\n",
       "      <td>282953.000000</td>\n",
       "      <td>282953.000000</td>\n",
       "      <td>282953.000000</td>\n",
       "      <td>282953.000000</td>\n",
       "      <td>282953.000000</td>\n",
       "      <td>282953.000000</td>\n",
       "      <td>282953.000000</td>\n",
       "      <td>282953.000000</td>\n",
       "      <td>282953.000000</td>\n",
       "      <td>282953.000000</td>\n",
       "      <td>282953.000000</td>\n",
       "      <td>282953.000000</td>\n",
       "      <td>282953.000000</td>\n",
       "      <td>282953.000000</td>\n",
       "      <td>282953.000000</td>\n",
       "      <td>282953.000000</td>\n",
       "      <td>282953.000000</td>\n",
       "      <td>282953.000000</td>\n",
       "    </tr>\n",
       "    <tr>\n",
       "      <th>mean</th>\n",
       "      <td>94816.256714</td>\n",
       "      <td>0.010161</td>\n",
       "      <td>-0.006837</td>\n",
       "      <td>0.002906</td>\n",
       "      <td>-0.004665</td>\n",
       "      <td>0.003311</td>\n",
       "      <td>-0.001734</td>\n",
       "      <td>0.002985</td>\n",
       "      <td>-0.002038</td>\n",
       "      <td>-0.002651</td>\n",
       "      <td>-0.001749</td>\n",
       "      <td>0.000529</td>\n",
       "      <td>-0.001410</td>\n",
       "      <td>0.000973</td>\n",
       "      <td>0.000262</td>\n",
       "      <td>0.002066</td>\n",
       "      <td>0.002001</td>\n",
       "      <td>0.000205</td>\n",
       "      <td>0.002709</td>\n",
       "      <td>-0.000681</td>\n",
       "      <td>0.000470</td>\n",
       "      <td>-0.000316</td>\n",
       "      <td>0.000184</td>\n",
       "      <td>0.000332</td>\n",
       "      <td>0.000372</td>\n",
       "      <td>-0.000347</td>\n",
       "      <td>0.000317</td>\n",
       "      <td>0.002830</td>\n",
       "      <td>0.000740</td>\n",
       "      <td>88.534756</td>\n",
       "      <td>0.001626</td>\n",
       "    </tr>\n",
       "    <tr>\n",
       "      <th>std</th>\n",
       "      <td>47479.631543</td>\n",
       "      <td>1.940990</td>\n",
       "      <td>1.643708</td>\n",
       "      <td>1.504189</td>\n",
       "      <td>1.413356</td>\n",
       "      <td>1.374938</td>\n",
       "      <td>1.331984</td>\n",
       "      <td>1.223249</td>\n",
       "      <td>1.173378</td>\n",
       "      <td>1.094047</td>\n",
       "      <td>1.069880</td>\n",
       "      <td>1.017337</td>\n",
       "      <td>0.990685</td>\n",
       "      <td>0.995584</td>\n",
       "      <td>0.947746</td>\n",
       "      <td>0.914577</td>\n",
       "      <td>0.871639</td>\n",
       "      <td>0.836799</td>\n",
       "      <td>0.836653</td>\n",
       "      <td>0.812862</td>\n",
       "      <td>0.769357</td>\n",
       "      <td>0.721104</td>\n",
       "      <td>0.724223</td>\n",
       "      <td>0.623093</td>\n",
       "      <td>0.605599</td>\n",
       "      <td>0.521199</td>\n",
       "      <td>0.481876</td>\n",
       "      <td>0.391139</td>\n",
       "      <td>0.327223</td>\n",
       "      <td>250.567570</td>\n",
       "      <td>0.040287</td>\n",
       "    </tr>\n",
       "    <tr>\n",
       "      <th>min</th>\n",
       "      <td>0.000000</td>\n",
       "      <td>-56.407510</td>\n",
       "      <td>-72.715728</td>\n",
       "      <td>-48.325589</td>\n",
       "      <td>-5.683171</td>\n",
       "      <td>-113.743307</td>\n",
       "      <td>-26.160506</td>\n",
       "      <td>-43.557242</td>\n",
       "      <td>-73.216718</td>\n",
       "      <td>-13.434066</td>\n",
       "      <td>-24.588262</td>\n",
       "      <td>-4.797473</td>\n",
       "      <td>-18.683715</td>\n",
       "      <td>-5.791881</td>\n",
       "      <td>-19.214325</td>\n",
       "      <td>-4.498945</td>\n",
       "      <td>-14.129855</td>\n",
       "      <td>-25.162799</td>\n",
       "      <td>-9.498746</td>\n",
       "      <td>-7.213527</td>\n",
       "      <td>-54.497720</td>\n",
       "      <td>-34.830382</td>\n",
       "      <td>-10.933144</td>\n",
       "      <td>-44.807735</td>\n",
       "      <td>-2.836627</td>\n",
       "      <td>-10.295397</td>\n",
       "      <td>-2.604551</td>\n",
       "      <td>-22.565679</td>\n",
       "      <td>-15.430084</td>\n",
       "      <td>0.000000</td>\n",
       "      <td>0.000000</td>\n",
       "    </tr>\n",
       "    <tr>\n",
       "      <th>25%</th>\n",
       "      <td>54213.000000</td>\n",
       "      <td>-0.912989</td>\n",
       "      <td>-0.601721</td>\n",
       "      <td>-0.888987</td>\n",
       "      <td>-0.851101</td>\n",
       "      <td>-0.688407</td>\n",
       "      <td>-0.769506</td>\n",
       "      <td>-0.551470</td>\n",
       "      <td>-0.209036</td>\n",
       "      <td>-0.645213</td>\n",
       "      <td>-0.535495</td>\n",
       "      <td>-0.761053</td>\n",
       "      <td>-0.407033</td>\n",
       "      <td>-0.647592</td>\n",
       "      <td>-0.425859</td>\n",
       "      <td>-0.579982</td>\n",
       "      <td>-0.465990</td>\n",
       "      <td>-0.484093</td>\n",
       "      <td>-0.497235</td>\n",
       "      <td>-0.456370</td>\n",
       "      <td>-0.211207</td>\n",
       "      <td>-0.228236</td>\n",
       "      <td>-0.542743</td>\n",
       "      <td>-0.161658</td>\n",
       "      <td>-0.354423</td>\n",
       "      <td>-0.317659</td>\n",
       "      <td>-0.326567</td>\n",
       "      <td>-0.070453</td>\n",
       "      <td>-0.052736</td>\n",
       "      <td>5.590000</td>\n",
       "      <td>0.000000</td>\n",
       "    </tr>\n",
       "    <tr>\n",
       "      <th>50%</th>\n",
       "      <td>84704.000000</td>\n",
       "      <td>0.022459</td>\n",
       "      <td>0.062929</td>\n",
       "      <td>0.180273</td>\n",
       "      <td>-0.023625</td>\n",
       "      <td>-0.052817</td>\n",
       "      <td>-0.275914</td>\n",
       "      <td>0.041333</td>\n",
       "      <td>0.021522</td>\n",
       "      <td>-0.052847</td>\n",
       "      <td>-0.093236</td>\n",
       "      <td>-0.031708</td>\n",
       "      <td>0.137994</td>\n",
       "      <td>-0.012588</td>\n",
       "      <td>0.049812</td>\n",
       "      <td>0.050295</td>\n",
       "      <td>0.067789</td>\n",
       "      <td>-0.066202</td>\n",
       "      <td>-0.001181</td>\n",
       "      <td>0.002974</td>\n",
       "      <td>-0.062201</td>\n",
       "      <td>-0.029370</td>\n",
       "      <td>0.007041</td>\n",
       "      <td>-0.011184</td>\n",
       "      <td>0.041074</td>\n",
       "      <td>0.016162</td>\n",
       "      <td>-0.052152</td>\n",
       "      <td>0.001564</td>\n",
       "      <td>0.011312</td>\n",
       "      <td>22.000000</td>\n",
       "      <td>0.000000</td>\n",
       "    </tr>\n",
       "    <tr>\n",
       "      <th>75%</th>\n",
       "      <td>139294.000000</td>\n",
       "      <td>1.316582</td>\n",
       "      <td>0.797751</td>\n",
       "      <td>1.027190</td>\n",
       "      <td>0.737319</td>\n",
       "      <td>0.612704</td>\n",
       "      <td>0.395220</td>\n",
       "      <td>0.570666</td>\n",
       "      <td>0.324281</td>\n",
       "      <td>0.594912</td>\n",
       "      <td>0.453829</td>\n",
       "      <td>0.739740</td>\n",
       "      <td>0.615721</td>\n",
       "      <td>0.663506</td>\n",
       "      <td>0.491762</td>\n",
       "      <td>0.651059</td>\n",
       "      <td>0.523705</td>\n",
       "      <td>0.398005</td>\n",
       "      <td>0.502868</td>\n",
       "      <td>0.457863</td>\n",
       "      <td>0.133435</td>\n",
       "      <td>0.186184</td>\n",
       "      <td>0.528316</td>\n",
       "      <td>0.147729</td>\n",
       "      <td>0.439880</td>\n",
       "      <td>0.350621</td>\n",
       "      <td>0.239885</td>\n",
       "      <td>0.091310</td>\n",
       "      <td>0.078270</td>\n",
       "      <td>77.710000</td>\n",
       "      <td>0.000000</td>\n",
       "    </tr>\n",
       "    <tr>\n",
       "      <th>max</th>\n",
       "      <td>172792.000000</td>\n",
       "      <td>2.454930</td>\n",
       "      <td>22.057729</td>\n",
       "      <td>9.382558</td>\n",
       "      <td>16.875344</td>\n",
       "      <td>34.801666</td>\n",
       "      <td>73.301626</td>\n",
       "      <td>120.589494</td>\n",
       "      <td>20.007208</td>\n",
       "      <td>15.594995</td>\n",
       "      <td>23.745136</td>\n",
       "      <td>12.018913</td>\n",
       "      <td>7.848392</td>\n",
       "      <td>7.126883</td>\n",
       "      <td>10.526766</td>\n",
       "      <td>8.877742</td>\n",
       "      <td>17.315112</td>\n",
       "      <td>9.253526</td>\n",
       "      <td>5.041069</td>\n",
       "      <td>5.591971</td>\n",
       "      <td>39.420904</td>\n",
       "      <td>22.614889</td>\n",
       "      <td>10.503090</td>\n",
       "      <td>22.528412</td>\n",
       "      <td>4.584549</td>\n",
       "      <td>7.519589</td>\n",
       "      <td>3.517346</td>\n",
       "      <td>31.612198</td>\n",
       "      <td>33.847808</td>\n",
       "      <td>25691.160000</td>\n",
       "      <td>1.000000</td>\n",
       "    </tr>\n",
       "  </tbody>\n",
       "</table>\n",
       "</div>"
      ],
      "text/plain": [
       "                Time             V1             V2             V3  \\\n",
       "count  282953.000000  282953.000000  282953.000000  282953.000000   \n",
       "mean    94816.256714       0.010161      -0.006837       0.002906   \n",
       "std     47479.631543       1.940990       1.643708       1.504189   \n",
       "min         0.000000     -56.407510     -72.715728     -48.325589   \n",
       "25%     54213.000000      -0.912989      -0.601721      -0.888987   \n",
       "50%     84704.000000       0.022459       0.062929       0.180273   \n",
       "75%    139294.000000       1.316582       0.797751       1.027190   \n",
       "max    172792.000000       2.454930      22.057729       9.382558   \n",
       "\n",
       "                  V4             V5             V6             V7  \\\n",
       "count  282953.000000  282953.000000  282953.000000  282953.000000   \n",
       "mean       -0.004665       0.003311      -0.001734       0.002985   \n",
       "std         1.413356       1.374938       1.331984       1.223249   \n",
       "min        -5.683171    -113.743307     -26.160506     -43.557242   \n",
       "25%        -0.851101      -0.688407      -0.769506      -0.551470   \n",
       "50%        -0.023625      -0.052817      -0.275914       0.041333   \n",
       "75%         0.737319       0.612704       0.395220       0.570666   \n",
       "max        16.875344      34.801666      73.301626     120.589494   \n",
       "\n",
       "                  V8             V9            V10            V11  \\\n",
       "count  282953.000000  282953.000000  282953.000000  282953.000000   \n",
       "mean       -0.002038      -0.002651      -0.001749       0.000529   \n",
       "std         1.173378       1.094047       1.069880       1.017337   \n",
       "min       -73.216718     -13.434066     -24.588262      -4.797473   \n",
       "25%        -0.209036      -0.645213      -0.535495      -0.761053   \n",
       "50%         0.021522      -0.052847      -0.093236      -0.031708   \n",
       "75%         0.324281       0.594912       0.453829       0.739740   \n",
       "max        20.007208      15.594995      23.745136      12.018913   \n",
       "\n",
       "                 V12            V13            V14            V15  \\\n",
       "count  282953.000000  282953.000000  282953.000000  282953.000000   \n",
       "mean       -0.001410       0.000973       0.000262       0.002066   \n",
       "std         0.990685       0.995584       0.947746       0.914577   \n",
       "min       -18.683715      -5.791881     -19.214325      -4.498945   \n",
       "25%        -0.407033      -0.647592      -0.425859      -0.579982   \n",
       "50%         0.137994      -0.012588       0.049812       0.050295   \n",
       "75%         0.615721       0.663506       0.491762       0.651059   \n",
       "max         7.848392       7.126883      10.526766       8.877742   \n",
       "\n",
       "                 V16            V17            V18            V19  \\\n",
       "count  282953.000000  282953.000000  282953.000000  282953.000000   \n",
       "mean        0.002001       0.000205       0.002709      -0.000681   \n",
       "std         0.871639       0.836799       0.836653       0.812862   \n",
       "min       -14.129855     -25.162799      -9.498746      -7.213527   \n",
       "25%        -0.465990      -0.484093      -0.497235      -0.456370   \n",
       "50%         0.067789      -0.066202      -0.001181       0.002974   \n",
       "75%         0.523705       0.398005       0.502868       0.457863   \n",
       "max        17.315112       9.253526       5.041069       5.591971   \n",
       "\n",
       "                 V20            V21            V22            V23  \\\n",
       "count  282953.000000  282953.000000  282953.000000  282953.000000   \n",
       "mean        0.000470      -0.000316       0.000184       0.000332   \n",
       "std         0.769357       0.721104       0.724223       0.623093   \n",
       "min       -54.497720     -34.830382     -10.933144     -44.807735   \n",
       "25%        -0.211207      -0.228236      -0.542743      -0.161658   \n",
       "50%        -0.062201      -0.029370       0.007041      -0.011184   \n",
       "75%         0.133435       0.186184       0.528316       0.147729   \n",
       "max        39.420904      22.614889      10.503090      22.528412   \n",
       "\n",
       "                 V24            V25            V26            V27  \\\n",
       "count  282953.000000  282953.000000  282953.000000  282953.000000   \n",
       "mean        0.000372      -0.000347       0.000317       0.002830   \n",
       "std         0.605599       0.521199       0.481876       0.391139   \n",
       "min        -2.836627     -10.295397      -2.604551     -22.565679   \n",
       "25%        -0.354423      -0.317659      -0.326567      -0.070453   \n",
       "50%         0.041074       0.016162      -0.052152       0.001564   \n",
       "75%         0.439880       0.350621       0.239885       0.091310   \n",
       "max         4.584549       7.519589       3.517346      31.612198   \n",
       "\n",
       "                 V28         Amount          Class  \n",
       "count  282953.000000  282953.000000  282953.000000  \n",
       "mean        0.000740      88.534756       0.001626  \n",
       "std         0.327223     250.567570       0.040287  \n",
       "min       -15.430084       0.000000       0.000000  \n",
       "25%        -0.052736       5.590000       0.000000  \n",
       "50%         0.011312      22.000000       0.000000  \n",
       "75%         0.078270      77.710000       0.000000  \n",
       "max        33.847808   25691.160000       1.000000  "
      ]
     },
     "execution_count": 41,
     "metadata": {},
     "output_type": "execute_result"
    }
   ],
   "source": [
    "data_df.describe()"
   ]
  },
  {
   "cell_type": "markdown",
   "metadata": {
    "id": "nE9Cjgdg4kXv"
   },
   "source": [
    "**Observation**\n",
    "\n",
    "It looks like as part of PCA, values in all columns from V1 to V28 are scaled. Values in Amount and Time needs to be scaled like other columns."
   ]
  },
  {
   "cell_type": "code",
   "execution_count": 17,
   "metadata": {
    "id": "PND8pUS8ZWWv"
   },
   "outputs": [],
   "source": [
    "from sklearn.preprocessing import  RobustScaler\n",
    "robust=RobustScaler()\n",
    "data_df['v_amount']=robust.fit_transform(data_df['Amount'].values.reshape(-1,1))\n",
    "data_df['v_time']=robust.fit_transform(data_df['Time'].values.reshape(-1,1))\n"
   ]
  },
  {
   "cell_type": "markdown",
   "metadata": {
    "id": "Z0S6rn2Y2o91"
   },
   "source": [
    "Drop the original Time and Amount columns"
   ]
  },
  {
   "cell_type": "code",
   "execution_count": null,
   "metadata": {
    "id": "O9qKMjy62n8J"
   },
   "outputs": [],
   "source": [
    "data_df.drop(['Time','Amount'], axis=1, inplace=True)"
   ]
  },
  {
   "cell_type": "markdown",
   "metadata": {
    "id": "Np5J7BqfZWWv"
   },
   "source": [
    "### e) Other"
   ]
  },
  {
   "cell_type": "markdown",
   "metadata": {
    "id": "iXR3CqX55c6v"
   },
   "source": [
    "**Balancing the data set by over sampling**\n",
    "\n",
    "Problem: Earlier we observed that the data set is highly imbalanced. 99.8% of data belongs to one class, which is non-fraudlent. So Machine learning algorithm will not be able to understand the pattern of fraudlent transactions. \n",
    "\n",
    "Solution: The solution to this problem is over sampling. Oversampling model used will be SMOTE which refers to Synthetic Minority Oversampling Technique.. It aims to balance class distribution by randomly increasing minority class examples by replicating them.It synthesises new minority instances between existing minority instances.After the oversampling process, the data is reconstructed and several classification models can be applied for the processed data."
   ]
  },
  {
   "cell_type": "markdown",
   "metadata": {
    "id": "zRKwbI-C_Zvl"
   },
   "source": [
    "Before oversampling, lets split the data to training and test set"
   ]
  },
  {
   "cell_type": "code",
   "execution_count": 18,
   "metadata": {
    "colab": {
     "base_uri": "https://localhost:8080/"
    },
    "id": "OBAoDKr8ACBC",
    "outputId": "35774224-c932-4924-a319-cbcb9141863f"
   },
   "outputs": [
    {
     "name": "stdout",
     "output_type": "stream",
     "text": [
      "X Shape: (282953, 33)\n",
      "y Shape: (282953,)\n"
     ]
    }
   ],
   "source": [
    "# Split data for features(X) and Target(y)\n",
    "X = data_df.drop('Class', axis = 1)\n",
    "\n",
    "y = data_df['Class']\n",
    "\n",
    "print('X Shape:', X.shape)\n",
    "print('y Shape:', y.shape)"
   ]
  },
  {
   "cell_type": "code",
   "execution_count": 21,
   "metadata": {
    "id": "eKNzoe7AvYCm"
   },
   "outputs": [],
   "source": [
    "X=X.drop('transaction_type',axis=1)"
   ]
  },
  {
   "cell_type": "markdown",
   "metadata": {
    "id": "sSvkqGedCGT0"
   },
   "source": [
    "**Applying SMOTE**"
   ]
  },
  {
   "cell_type": "code",
   "execution_count": 19,
   "metadata": {
    "id": "Eq7YqD_dB-ik"
   },
   "outputs": [],
   "source": [
    "from imblearn.over_sampling import SMOTE"
   ]
  },
  {
   "cell_type": "code",
   "execution_count": 22,
   "metadata": {
    "id": "1SgYxCjgBP82"
   },
   "outputs": [],
   "source": [
    "#Appling SMOTE model\n",
    "sm = SMOTE(random_state = 4, ratio = 1)\n",
    "X1, y1 = sm.fit_sample(X, y)\n",
    "\n",
    "X_new = pd.DataFrame(data = X1, columns = X.columns)\n",
    "\n",
    "X_train, X_test, y_train, y_test = train_test_split(X_new, y1, test_size = 0.2, random_state = 4, stratify = y1)\n"
   ]
  },
  {
   "cell_type": "markdown",
   "metadata": {
    "id": "eko1rW4-CPgs"
   },
   "source": [
    "After SMOTE, shape of X and y"
   ]
  },
  {
   "cell_type": "code",
   "execution_count": 23,
   "metadata": {
    "colab": {
     "base_uri": "https://localhost:8080/"
    },
    "id": "xNkP7DAZCZ6Y",
    "outputId": "87d3ea55-e9cb-4655-a281-cfda5d0ee16d"
   },
   "outputs": [
    {
     "name": "stdout",
     "output_type": "stream",
     "text": [
      "Training Data Shape: (451988, 32) (451988,)\n",
      "Testing Data Shape: (112998, 32) (112998,)\n"
     ]
    }
   ],
   "source": [
    "print('Training Data Shape:', X_train.shape, y_train.shape)\n",
    "print('Testing Data Shape:', X_test.shape, y_test.shape)"
   ]
  },
  {
   "cell_type": "markdown",
   "metadata": {
    "id": "re39xSY4ZWWv"
   },
   "source": [
    "## 4. Technique 1\n",
    "**Random Forest**"
   ]
  },
  {
   "cell_type": "markdown",
   "metadata": {
    "id": "UXEAldIUZWWw"
   },
   "source": [
    "### a) Motivation for choosing the technique\n",
    "\n",
    "Since number of training data is sufficiently large for our data set when compared with the number of features,Random Forest which has usually a low bias/high variance is a good choice for this problem. Also Random Forest algorithm is flexible as they can generate wider range of possible combination of trees with random data. As per the stringent requirement, we need a model which can give higher accuracy. So a flexible model like Random Forest highly suitable.\n",
    "Random forest is one of the most popular supervised learning algorithms. It can be applied in classifications problems very well. Our data set is very complex and big. So Random forests generate decision trees from randomly chosen data samples, receives predictions from each tree, and chooses the optimal solution by means of voting.\n"
   ]
  },
  {
   "cell_type": "markdown",
   "metadata": {
    "id": "XfnNoohzZWWw"
   },
   "source": [
    "Enter the correct code in the cells below to execute each of the stated sub-tasks.\n",
    "### b) Setting hyper parameters with rationale\n",
    "Lets try to run RandomForestClassifier with default parameters\n",
    "n_estimators=100,criterion='gini,min_samples_split=2"
   ]
  },
  {
   "cell_type": "code",
   "execution_count": 136,
   "metadata": {
    "colab": {
     "base_uri": "https://localhost:8080/"
    },
    "id": "SjVx-U4YZWWw",
    "outputId": "339c9ec9-41cd-44ac-d93d-d5cdd6457c11"
   },
   "outputs": [
    {
     "data": {
      "text/plain": [
       "RandomForestClassifier(bootstrap=True, ccp_alpha=0.0, class_weight=None,\n",
       "                       criterion='gini', max_depth=None, max_features='auto',\n",
       "                       max_leaf_nodes=None, max_samples=None,\n",
       "                       min_impurity_decrease=0.0, min_impurity_split=None,\n",
       "                       min_samples_leaf=1, min_samples_split=2,\n",
       "                       min_weight_fraction_leaf=0.0, n_estimators=100,\n",
       "                       n_jobs=None, oob_score=False, random_state=None,\n",
       "                       verbose=0, warm_start=False)"
      ]
     },
     "execution_count": 136,
     "metadata": {},
     "output_type": "execute_result"
    }
   ],
   "source": [
    "clf = RandomForestClassifier(n_estimators = 100, max_depth = None, \n",
    "                               min_samples_split = 2, min_samples_leaf = 1)\n",
    "clf.fit(X_train, y_train)\n"
   ]
  },
  {
   "cell_type": "code",
   "execution_count": 137,
   "metadata": {
    "id": "EYIv2xbxHdaX"
   },
   "outputs": [],
   "source": [
    "y_pred = clf.predict(X_test)"
   ]
  },
  {
   "cell_type": "code",
   "execution_count": 138,
   "metadata": {
    "colab": {
     "base_uri": "https://localhost:8080/"
    },
    "id": "eByh2BSuDz_q",
    "outputId": "fd4035a5-f784-41c5-a131-e8761cb814ef"
   },
   "outputs": [
    {
     "name": "stdout",
     "output_type": "stream",
     "text": [
      "Accuracy Score (Train Data): 1.0\n",
      "Accuracy Score (Test Data): 1.0\n"
     ]
    }
   ],
   "source": [
    "print('Accuracy Score (Train Data):', np.round(clf.score(X_train, y_train), decimals = 3))\n",
    "print('Accuracy Score (Test Data):', np.round(clf.score(X_test, y_test), decimals = 3))"
   ]
  },
  {
   "cell_type": "code",
   "execution_count": 139,
   "metadata": {
    "colab": {
     "base_uri": "https://localhost:8080/"
    },
    "id": "l4joEWVd2ZoU",
    "outputId": "9e4f15c9-6a5b-42dd-82a6-f9b90768ddc6"
   },
   "outputs": [
    {
     "name": "stdout",
     "output_type": "stream",
     "text": [
      "              precision    recall  f1-score   support\n",
      "\n",
      "           0       1.00      1.00      1.00     56499\n",
      "           1       1.00      1.00      1.00     56499\n",
      "\n",
      "    accuracy                           1.00    112998\n",
      "   macro avg       1.00      1.00      1.00    112998\n",
      "weighted avg       1.00      1.00      1.00    112998\n",
      "\n"
     ]
    }
   ],
   "source": [
    "random_forest_report = classification_report(y_test, y_pred)\n",
    "print(random_forest_report)"
   ]
  },
  {
   "cell_type": "markdown",
   "metadata": {
    "id": "MbhUsTQ4Avc8"
   },
   "source": [
    "**Observation**\n",
    "Accuracy, precision and recall is giving 100%. There seems to be some overfitting happening."
   ]
  },
  {
   "cell_type": "markdown",
   "metadata": {
    "id": "D9TC3Q-hZWWw"
   },
   "source": [
    "### c) Optimising hyper parameters\n",
    "It looks like there is some overfitting happening in the model. So we need to do some hyperparameter tuning for this algorithm.\n",
    "\n",
    "Most important hyperparameters which we can fine tune include,\n",
    "\n",
    "**N_estimators**- We can define the number of decision trees in the forest in random forest models, which are ensembles of decision trees. Additional decision trees improve model accuracy since predictions are based on a higher number of \"votes\" from different trees; yet, huge numbers of trees are computationally expensive. We can define the number of decision trees in the forest in random forest models, which are ensembles of decision trees. Additional decision trees improve model accuracy since predictions are based on a higher number of \"votes\" from different trees; yet, huge numbers of trees are computationally expensive.\n",
    "\n",
    "**max_features**- The number of features to resample is determined by max features. Larger max feature values can enhance model performance by giving trees more features from which to find the optimum split, but they can also make trees less diversified and lead to overfitting.\n",
    "\n",
    "max_depth-The random forest model splits each tree numerous times to extract homogeneous groupings of outcomes. Trees with more splits allow them to explain more variety in the data, but trees with more divides may overfit the data. A variety of depth settings should be considered, including \"None,\" which involves splitting trees until all of the leaves are pure.\n",
    "\n",
    "We will use randomizedsearch method from sklearn to find the best values of above parameters\n"
   ]
  },
  {
   "cell_type": "markdown",
   "metadata": {
    "id": "8YIM9SFHrmQ3"
   },
   "source": [
    "**Undersampling for time saving**\n",
    "For hyperparameter fine tuning, we will do undersampling of original data instead of oversampling. This will save lot of time as oversampled data is about more than 400k and not finishing even after running for more than 2 hours."
   ]
  },
  {
   "cell_type": "code",
   "execution_count": null,
   "metadata": {
    "id": "Yl51aGp8PGYH"
   },
   "outputs": [],
   "source": [
    "#Read original data and drop duplicates\n",
    "data_undersample=pd.read_csv(\"data.csv\")\n",
    "data_undersample=data_undersample.drop_duplicates(keep=False)\n",
    "\n",
    "#Perform scaling\n",
    "from sklearn.preprocessing import  RobustScaler\n",
    "robust=RobustScaler()\n",
    "data_undersample['v_amount']=robust.fit_transform(data_undersample['Amount'].values.reshape(-1,1))\n",
    "data_undersample['v_time']=robust.fit_transform(data_undersample['Time'].values.reshape(-1,1))\n",
    "data_undersample.drop(['Time','Amount'], axis=1, inplace=True)\n",
    "\n",
    "X_undersample = data_undersample.drop('Class', axis = 1)\n",
    "y_undersample = data_undersample['Class']"
   ]
  },
  {
   "cell_type": "code",
   "execution_count": null,
   "metadata": {
    "id": "YfXRJXlCPxqd"
   },
   "outputs": [],
   "source": [
    "#Perform undersampling\n",
    "from imblearn.under_sampling import RandomUnderSampler\n",
    "under_sample= RandomUnderSampler(sampling_strategy='majority')\n",
    "X2, y2 = under_sample.fit_resample(X_undersample, y_undersample)\n",
    "X_new2 = pd.DataFrame(data = X2, columns = X_undersample.columns)\n",
    "X_train2, X_test2, y_train2, y_test2=train_test_split(X_new2, y2, test_size = 0.2, random_state = 3, stratify = y2)"
   ]
  },
  {
   "cell_type": "code",
   "execution_count": null,
   "metadata": {
    "id": "fNUb56wcNt9E"
   },
   "outputs": [],
   "source": [
    "#Setting parameters of RandomizedSearchCV\n",
    "from sklearn.model_selection import RandomizedSearchCV\n",
    "from scipy.stats import randint as sp_randint\n",
    "\n",
    "param_dist = {\"max_depth\": range(2,5),\n",
    "              \"min_samples_split\": sp_randint(2, 11),\n",
    "              \"min_samples_leaf\": sp_randint(1, 11),\n",
    "              \"bootstrap\": [True, False],\n",
    "              \"n_estimators\": [100, 400, 700, 1000, 1500],\n",
    "              \"criterion\" : [\"gini\", \"entropy\"],\n",
    "              'max_features': ['sqrt', 'log2', None]\n",
    "             }"
   ]
  },
  {
   "cell_type": "code",
   "execution_count": null,
   "metadata": {
    "id": "7KM7yF5VNzjq"
   },
   "outputs": [],
   "source": [
    "\n",
    "# run randomized search\n",
    "n_iter_search = 50\n",
    "random_search = RandomizedSearchCV(clf, param_distributions = param_dist,\n",
    "                                   n_iter = n_iter_search,\n",
    "                                   n_jobs = -1)"
   ]
  },
  {
   "cell_type": "code",
   "execution_count": null,
   "metadata": {
    "colab": {
     "base_uri": "https://localhost:8080/"
    },
    "id": "9sPKb_riOHjQ",
    "outputId": "0427e02e-f6b3-4f46-858a-8c42c8d0c11a"
   },
   "outputs": [
    {
     "data": {
      "text/plain": [
       "RandomizedSearchCV(cv=None, error_score=nan,\n",
       "                   estimator=RandomForestClassifier(bootstrap=True,\n",
       "                                                    ccp_alpha=0.0,\n",
       "                                                    class_weight=None,\n",
       "                                                    criterion='gini',\n",
       "                                                    max_depth=None,\n",
       "                                                    max_features='auto',\n",
       "                                                    max_leaf_nodes=None,\n",
       "                                                    max_samples=None,\n",
       "                                                    min_impurity_decrease=0.0,\n",
       "                                                    min_impurity_split=None,\n",
       "                                                    min_samples_leaf=2,\n",
       "                                                    min_samples_split=4,\n",
       "                                                    min_weight_fraction_leaf=0.0,\n",
       "                                                    n_estimators=200,\n",
       "                                                    n_j...\n",
       "                                        'max_features': ['sqrt', 'log2', None],\n",
       "                                        'min_samples_leaf': <scipy.stats._distn_infrastructure.rv_frozen object at 0x7f8445518510>,\n",
       "                                        'min_samples_split': <scipy.stats._distn_infrastructure.rv_frozen object at 0x7f8445518390>,\n",
       "                                        'n_estimators': [100, 400, 700, 1000,\n",
       "                                                         1500]},\n",
       "                   pre_dispatch='2*n_jobs', random_state=None, refit=True,\n",
       "                   return_train_score=False, scoring=None, verbose=0)"
      ]
     },
     "execution_count": 111,
     "metadata": {},
     "output_type": "execute_result"
    }
   ],
   "source": [
    "random_search.fit(X_train2, y_train2)"
   ]
  },
  {
   "cell_type": "markdown",
   "metadata": {
    "id": "0qDufqx9s4ar"
   },
   "source": [
    "After finetuning, we can see the best parameters and the possible value which gives highest accuracy"
   ]
  },
  {
   "cell_type": "code",
   "execution_count": null,
   "metadata": {
    "colab": {
     "base_uri": "https://localhost:8080/"
    },
    "id": "ZPdAvCQNXFyl",
    "outputId": "a1c55060-870d-4764-e1f5-37ee1c8632e6"
   },
   "outputs": [
    {
     "data": {
      "text/plain": [
       "{'bootstrap': True,\n",
       " 'criterion': 'entropy',\n",
       " 'max_depth': 4,\n",
       " 'max_features': None,\n",
       " 'min_samples_leaf': 6,\n",
       " 'min_samples_split': 8,\n",
       " 'n_estimators': 700}"
      ]
     },
     "execution_count": 114,
     "metadata": {},
     "output_type": "execute_result"
    }
   ],
   "source": [
    "random_search.best_params_"
   ]
  },
  {
   "cell_type": "code",
   "execution_count": null,
   "metadata": {
    "colab": {
     "base_uri": "https://localhost:8080/"
    },
    "id": "vQWPRp7wXNg7",
    "outputId": "e92c873f-dfec-4852-ddb1-c6a6a9193037"
   },
   "outputs": [
    {
     "data": {
      "text/plain": [
       "0.9306949806949806"
      ]
     },
     "execution_count": 113,
     "metadata": {},
     "output_type": "execute_result"
    }
   ],
   "source": [
    "random_search.best_score_"
   ]
  },
  {
   "cell_type": "markdown",
   "metadata": {
    "id": "FveQ2aootIdW"
   },
   "source": [
    "**new model definintion**\n",
    "\n",
    "Define the new model based on the findings from hyperparameter tuning"
   ]
  },
  {
   "cell_type": "code",
   "execution_count": 51,
   "metadata": {
    "id": "HGirYJEYtlaU"
   },
   "outputs": [],
   "source": [
    "clf_tuned = RandomForestClassifier(bootstrap=True,n_estimators = 700, max_depth = 4, \n",
    "                               min_samples_split = 8, min_samples_leaf = 4,criterion='entropy')"
   ]
  },
  {
   "cell_type": "markdown",
   "metadata": {
    "id": "5okG_c1OZWWw"
   },
   "source": [
    "### d) Performance metrics for training\n",
    "**RandomForest Classifier**"
   ]
  },
  {
   "cell_type": "code",
   "execution_count": null,
   "metadata": {
    "colab": {
     "base_uri": "https://localhost:8080/"
    },
    "id": "Do-7tFwcZWWw",
    "outputId": "de7b8969-8063-4997-9fa1-d5103e9d90ef"
   },
   "outputs": [
    {
     "name": "stdout",
     "output_type": "stream",
     "text": [
      "Accuracy Score (Train Data): 1.0\n"
     ]
    }
   ],
   "source": [
    "print('Accuracy Score (Train Data):', np.round(clf_tuned.score(X_train, y_train), decimals = 3))"
   ]
  },
  {
   "cell_type": "code",
   "execution_count": null,
   "metadata": {
    "colab": {
     "base_uri": "https://localhost:8080/"
    },
    "id": "LJUEIdmbHMz2",
    "outputId": "5f7d8372-b157-4d6b-806f-f110ad472dbc"
   },
   "outputs": [
    {
     "name": "stdout",
     "output_type": "stream",
     "text": [
      "              precision    recall  f1-score   support\n",
      "\n",
      "           0       1.00      1.00      1.00    225994\n",
      "           1       1.00      1.00      1.00    225994\n",
      "\n",
      "    accuracy                           1.00    451988\n",
      "   macro avg       1.00      1.00      1.00    451988\n",
      "weighted avg       1.00      1.00      1.00    451988\n",
      "\n"
     ]
    }
   ],
   "source": [
    "\n",
    "oversample_RF_report = classification_report(y_train,y_pred )\n",
    "print(oversample_RF_report)"
   ]
  },
  {
   "cell_type": "code",
   "execution_count": null,
   "metadata": {
    "colab": {
     "base_uri": "https://localhost:8080/",
     "height": 553
    },
    "id": "UOt8b3O9KZOz",
    "outputId": "a9f0a135-a4ff-4b4c-c884-3edca625c7a6"
   },
   "outputs": [
    {
     "data": {
      "image/png": "[encoded data removed]",
      "text/plain": [
       "<Figure size 1224x576 with 2 Axes>"
      ]
     },
     "metadata": {
      "needs_background": "light"
     },
     "output_type": "display_data"
    }
   ],
   "source": [
    "fig, ax1 = plt.subplots(nrows = 1, ncols = 1, sharex = False, figsize=(17, 8))\n",
    "plot_confusion_matrix(estimator = clf, X = X_train, y_true = y_train, values_format = '.5g', cmap = 'BuGn', ax = ax1)\n",
    "\n",
    "ax1.set_title(label = 'Train Data', size = 14)\n",
    "\n",
    "ax1.grid(b = False)\n",
    "\n",
    "plt.suptitle(t = 'Confusion Matrix', size = 16)\n",
    "plt.show()"
   ]
  },
  {
   "cell_type": "code",
   "execution_count": null,
   "metadata": {
    "id": "h3K53HUdJ8z2"
   },
   "outputs": [],
   "source": []
  },
  {
   "cell_type": "markdown",
   "metadata": {
    "id": "5oIk41gAZWWx"
   },
   "source": [
    "## 5. Technique 2 \n",
    "**Logistic Regression**"
   ]
  },
  {
   "cell_type": "markdown",
   "metadata": {
    "id": "3PmpIPplZWWx"
   },
   "source": [
    "### a) Discuss your motivation for choosing the technique\n",
    "Logistic regression is applied to predict the categorical dependent variable. In other words, it's used when making a categorical prediction, such as yes or no, true or false, 0 or 1. There is no middle ground when it comes to the predicted probability or output of logistic regression. So it helps in solving classification problems. Our problem of fraud detection rightly falls into this category of problems.\n",
    "\n",
    "Logistic regression is a lot easier to use than linear regression, and it's also a lot faster to train.Also it doesn't make any assumption about the distribution of classes in the feature space.\n",
    "\n",
    "For Logistic regression also, input data set is divided into training and test set. After training, model is tested with the test data with threshold cutoff of 0.5 for prediction and max_iter=1000."
   ]
  },
  {
   "cell_type": "markdown",
   "metadata": {
    "id": "SvhuTQZoZWWx"
   },
   "source": [
    "Enter the correct code in the cells below to execute each of the stated sub-tasks.\n",
    "### b) Setting hyper parameters with rationale\n",
    "\n",
    "Running the model with default parameters"
   ]
  },
  {
   "cell_type": "code",
   "execution_count": null,
   "metadata": {
    "colab": {
     "base_uri": "https://localhost:8080/"
    },
    "id": "sRi0StsPZWWx",
    "outputId": "5db8baae-2c3b-4255-fec8-d5719a0bad79"
   },
   "outputs": [
    {
     "name": "stdout",
     "output_type": "stream",
     "text": [
      "Accuracy Score for test data: 0.946\n",
      "              precision    recall  f1-score   support\n",
      "\n",
      "           0       0.92      0.97      0.95     56499\n",
      "           1       0.97      0.92      0.94     56499\n",
      "\n",
      "    accuracy                           0.95    112998\n",
      "   macro avg       0.95      0.95      0.95    112998\n",
      "weighted avg       0.95      0.95      0.95    112998\n",
      "\n"
     ]
    }
   ],
   "source": [
    "log  = LogisticRegression(random_state = 42,max_iter=1000)\n",
    "log.fit(X_train, y_train)\n",
    "y_pred = log.predict(X_test)\n",
    "print('Accuracy Score for test data:', np.round(log.score(X_test, y_test), decimals = 3))\n",
    "log_report = classification_report(y_test, y_pred)\n",
    "print(log_report)"
   ]
  },
  {
   "cell_type": "markdown",
   "metadata": {
    "id": "4GDursXBDqUc"
   },
   "source": [
    "**Observation**\n",
    "\n",
    "Precision looks good for fradulent transaction.\n",
    "\n",
    "Precision and Recall for non-fraudulent transaction is lesser.\n"
   ]
  },
  {
   "cell_type": "markdown",
   "metadata": {
    "id": "ZeXOU0zhZWWx"
   },
   "source": [
    "### c) Optimising hyper parameters\n",
    "\n",
    "We will try to see if there is any change in the performance of the model by doing hypertuning of following parameters,\n",
    "\n",
    "**Parameter C:**\n",
    "The parameter C=1/λ is used as one of the  regularization parameter. Lambda's values control the complexity of the algorithm. For less values of λ, model assigns big weights to its parameters. For higher values, model becomes simple.Parameter C is inversely proportional to λ which means small values of C increases the regularization strength which might underfit the data and higher values of C can cause overfitting.\n",
    "\n",
    "**Parameter solver:**\n",
    "Solver is the optimization algorithm. liblinear is a good choice for smaller data set. Sag and Saga are good for bigger data sets.\n"
   ]
  },
  {
   "cell_type": "code",
   "execution_count": null,
   "metadata": {
    "id": "-dRIJ7lwZWWx"
   },
   "outputs": [],
   "source": [
    "param_grid = {'C': [0.001, 0.01, 0.1, 100],\n",
    "            'max_iter': list(range(800,1000)),\n",
    "            'penalty': ['l1', 'l2'],\n",
    "            'solver': [ 'liblinear', 'sag', 'saga']\n",
    "    }\n",
    "\n",
    "\n",
    "n_iter_search = 50\n",
    "lr_random_search = RandomizedSearchCV(log, param_distributions = param_grid,\n",
    "                                   n_iter = n_iter_search,\n",
    "                                   n_jobs = -1)\n",
    "\n"
   ]
  },
  {
   "cell_type": "code",
   "execution_count": null,
   "metadata": {
    "colab": {
     "base_uri": "https://localhost:8080/"
    },
    "id": "6-OWNUHSZuq6",
    "outputId": "b5e8a371-605f-41f4-9fae-80a7e9959895"
   },
   "outputs": [
    {
     "data": {
      "text/plain": [
       "RandomizedSearchCV(cv=None, error_score=nan,\n",
       "                   estimator=LogisticRegression(C=1.0, class_weight=None,\n",
       "                                                dual=False, fit_intercept=True,\n",
       "                                                intercept_scaling=1,\n",
       "                                                l1_ratio=None, max_iter=1000,\n",
       "                                                multi_class='auto', n_jobs=None,\n",
       "                                                penalty='l2', random_state=42,\n",
       "                                                solver='lbfgs', tol=0.0001,\n",
       "                                                verbose=0, warm_start=False),\n",
       "                   iid='deprecated', n_iter=50, n_jobs=-1,\n",
       "                   param_distributions={'C': [0.001, 0.01, 0.1, 100],\n",
       "                                        'max_iter': [800, 801, 802, 803, 804,\n",
       "                                                     805, 806, 807, 808, 809,\n",
       "                                                     810, 811, 812, 813, 814,\n",
       "                                                     815, 816, 817, 818, 819,\n",
       "                                                     820, 821, 822, 823, 824,\n",
       "                                                     825, 826, 827, 828, 829, ...],\n",
       "                                        'penalty': ['l1', 'l2'],\n",
       "                                        'solver': ['liblinear', 'sag', 'saga']},\n",
       "                   pre_dispatch='2*n_jobs', random_state=None, refit=True,\n",
       "                   return_train_score=False, scoring=None, verbose=0)"
      ]
     },
     "execution_count": 119,
     "metadata": {},
     "output_type": "execute_result"
    }
   ],
   "source": [
    "lr_random_search.fit(X_train2,y_train2)\n"
   ]
  },
  {
   "cell_type": "markdown",
   "metadata": {
    "id": "RIj5g0_7b-Jj"
   },
   "source": [
    "**Observation**\n",
    "\n",
    "After finetuning with randomsearchcv method, we can see that the best possible values for parameters is as below\n",
    "\n",
    "c -100,\n",
    "max_iter- 816, penalty-l1, solver-liblinear"
   ]
  },
  {
   "cell_type": "code",
   "execution_count": null,
   "metadata": {
    "colab": {
     "base_uri": "https://localhost:8080/"
    },
    "id": "QGXI5VEhbp8V",
    "outputId": "dc0d5efb-7c70-4cb2-b75f-dcbf23f087d8"
   },
   "outputs": [
    {
     "data": {
      "text/plain": [
       "{'C': 100, 'max_iter': 816, 'penalty': 'l1', 'solver': 'liblinear'}"
      ]
     },
     "execution_count": 120,
     "metadata": {},
     "output_type": "execute_result"
    }
   ],
   "source": [
    "lr_random_search.best_params_"
   ]
  },
  {
   "cell_type": "code",
   "execution_count": null,
   "metadata": {
    "colab": {
     "base_uri": "https://localhost:8080/"
    },
    "id": "i4m-zDeqbtvw",
    "outputId": "2c59d42d-d603-42e4-af1f-5b135fe10050"
   },
   "outputs": [
    {
     "data": {
      "text/plain": [
       "0.9374885089170804"
      ]
     },
     "execution_count": 121,
     "metadata": {},
     "output_type": "execute_result"
    }
   ],
   "source": [
    "lr_random_search.best_score_"
   ]
  },
  {
   "cell_type": "markdown",
   "metadata": {
    "id": "Er0Gk-n_E3go"
   },
   "source": [
    "**Metrics Evaluation**"
   ]
  },
  {
   "cell_type": "markdown",
   "metadata": {
    "id": "zQSrcr36eKCk"
   },
   "source": [
    "Defining the logistic regression model based on new parameters and see how it is performing on test data"
   ]
  },
  {
   "cell_type": "code",
   "execution_count": 45,
   "metadata": {
    "id": "lxaqZKz4eIq_"
   },
   "outputs": [],
   "source": [
    "log_tuned=LogisticRegression(C=100, max_iter=816,penalty='l2', random_state=42,solver='liblinear')\n",
    "\n",
    "                                                "
   ]
  },
  {
   "cell_type": "markdown",
   "metadata": {
    "id": "-8O0zBEiZWWx"
   },
   "source": [
    "### d) Performance metrics for training\n"
   ]
  },
  {
   "cell_type": "markdown",
   "metadata": {
    "id": "1cY11WHIFvBi"
   },
   "source": [
    "**Logistic Regression**"
   ]
  },
  {
   "cell_type": "code",
   "execution_count": null,
   "metadata": {
    "colab": {
     "base_uri": "https://localhost:8080/"
    },
    "id": "WYP-pQ96ZWWy",
    "outputId": "d7d15561-4156-458d-f60e-a951f4897535"
   },
   "outputs": [
    {
     "name": "stdout",
     "output_type": "stream",
     "text": [
      "Accuracy Score (Train Data): 0.947\n"
     ]
    }
   ],
   "source": [
    "y_pred = log_tuned.predict(X_train)\n",
    "\n",
    "print('Accuracy Score (Train Data):', np.round(log_tuned.score(X_train, y_train), decimals = 3))\n",
    "#print('Accuracy Score (Test Data):', np.round(log_tuned.score(X_test, y_test), decimals = 3))"
   ]
  },
  {
   "cell_type": "code",
   "execution_count": null,
   "metadata": {
    "colab": {
     "base_uri": "https://localhost:8080/",
     "height": 294
    },
    "id": "Qo74TSJ1PETx",
    "outputId": "f729dfa3-d32f-4b65-c99f-669223eccc84"
   },
   "outputs": [
    {
     "data": {
      "image/png": "[encoded data removed]",
      "text/plain": [
       "<Figure size 432x288 with 1 Axes>"
      ]
     },
     "metadata": {
      "needs_background": "light"
     },
     "output_type": "display_data"
    }
   ],
   "source": [
    "from sklearn import metrics\n",
    "probs = log.predict_proba(X_train)\n",
    "preds = probs[:,1]\n",
    "fpr, tpr, threshold = metrics.roc_curve(y_train, preds)\n",
    "roc_auc = metrics.auc(fpr, tpr)\n",
    "\n",
    "import matplotlib.pyplot as plt\n",
    "plt.title('Receiver Operating Characteristic')\n",
    "plt.plot(fpr, tpr, 'g', label = 'AUC = %0.2f' % roc_auc)\n",
    "plt.legend(loc = 'upper left')\n",
    "plt.plot([0, 1], [0, 1],'v--')\n",
    "plt.xlim([0, 1])\n",
    "plt.ylim([0, 1])\n",
    "plt.ylabel('True Positive Rate')\n",
    "plt.xlabel('False Positive Rate')\n",
    "plt.show()"
   ]
  },
  {
   "cell_type": "markdown",
   "metadata": {
    "id": "VXdHGAiEZWWy"
   },
   "source": [
    "## 6. Comparison of metrics performance for testing\n",
    "Enter the correct code in the cells below to execute each of the stated sub-tasks. \n"
   ]
  },
  {
   "cell_type": "markdown",
   "metadata": {
    "id": "rIpFZgtnZWWy"
   },
   "source": [
    "### a) Use of cross validation for both techniques to deal with over-fitting"
   ]
  },
  {
   "cell_type": "markdown",
   "metadata": {
    "id": "eOc5CwpVGc18"
   },
   "source": [
    "**RandomForest Classifier**"
   ]
  },
  {
   "cell_type": "code",
   "execution_count": 47,
   "metadata": {
    "id": "0MMOb-rwGbyj"
   },
   "outputs": [],
   "source": [
    "from sklearn.model_selection import KFold\n",
    "from sklearn.model_selection import cross_val_score\n",
    "from numpy import mean\n",
    "from numpy import std"
   ]
  },
  {
   "cell_type": "code",
   "execution_count": 48,
   "metadata": {
    "id": "cwjROln_ZWWy"
   },
   "outputs": [],
   "source": [
    "cross_val=cv = KFold(n_splits=10, random_state=1, shuffle=True)"
   ]
  },
  {
   "cell_type": "code",
   "execution_count": 52,
   "metadata": {
    "id": "cEhUA_C1JES2"
   },
   "outputs": [],
   "source": [
    "RF=RandomForestClassifier()\n",
    "scores = cross_val_score(clf_tuned, X, y, scoring='accuracy', cv=cv, n_jobs=-1)"
   ]
  },
  {
   "cell_type": "code",
   "execution_count": 53,
   "metadata": {
    "colab": {
     "base_uri": "https://localhost:8080/"
    },
    "id": "DqCi1xfpla9r",
    "outputId": "1f0313b2-c7e3-4cbb-ba83-afec6d13cca5"
   },
   "outputs": [
    {
     "data": {
      "text/plain": [
       "array([0.99971727, 0.99954057, 0.99939921, 0.9993285 , 0.99943453,\n",
       "       0.99943453, 0.99918714, 0.99918714, 0.9993285 , 0.99936385])"
      ]
     },
     "execution_count": 53,
     "metadata": {},
     "output_type": "execute_result"
    }
   ],
   "source": [
    "scores"
   ]
  },
  {
   "cell_type": "code",
   "execution_count": 54,
   "metadata": {
    "colab": {
     "base_uri": "https://localhost:8080/"
    },
    "id": "H5hYvhiKkikj",
    "outputId": "529225bc-cc7a-4a40-d44e-d59f8080a1be"
   },
   "outputs": [
    {
     "name": "stdout",
     "output_type": "stream",
     "text": [
      "Accuracy: 0.999 (0.000)\n"
     ]
    }
   ],
   "source": [
    "print('Accuracy: %.3f (%.3f)' % (mean(scores), std(scores)))"
   ]
  },
  {
   "cell_type": "markdown",
   "metadata": {
    "id": "B3-U5c7dljMB"
   },
   "source": [
    "**Logistic Regression**"
   ]
  },
  {
   "cell_type": "code",
   "execution_count": 49,
   "metadata": {
    "id": "YVYtlBj3lhCq"
   },
   "outputs": [],
   "source": [
    "\n",
    "scores_logic = cross_val_score(log_tuned, X, y, scoring='accuracy', cv=cv, n_jobs=-1)"
   ]
  },
  {
   "cell_type": "code",
   "execution_count": 50,
   "metadata": {
    "colab": {
     "base_uri": "https://localhost:8080/"
    },
    "id": "Jh3i-7YdoveB",
    "outputId": "948df86d-4dd3-4683-db44-11614cf378ab"
   },
   "outputs": [
    {
     "name": "stdout",
     "output_type": "stream",
     "text": [
      "Accuracy: 0.999 (0.000)\n"
     ]
    }
   ],
   "source": [
    "print('Accuracy: %.3f (%.3f)' % (mean(scores_logic), std(scores_logic)))"
   ]
  },
  {
   "cell_type": "markdown",
   "metadata": {
    "id": "lpeGhzxdZWWy"
   },
   "source": [
    "### b) Comparison with appropriate metrics for testing\n",
    "\n",
    "###Accuracy, Precision and Recall\n",
    "We will be using three metrics for comparing the performance of each technique\n",
    "**Accuracy,Precision** and **Recall**\n",
    "\n"
   ]
  },
  {
   "cell_type": "code",
   "execution_count": 152,
   "metadata": {
    "colab": {
     "base_uri": "https://localhost:8080/"
    },
    "id": "HUzUIOnnZWWy",
    "outputId": "0bf23775-f1ac-421a-dc35-a6eb5a6f429e"
   },
   "outputs": [
    {
     "name": "stdout",
     "output_type": "stream",
     "text": [
      "\n",
      " ******RandomForest Classifer*******\n",
      "\n",
      "Accuracy Score with Test Data: 0.93\n",
      "\n",
      "\n",
      "              precision    recall  f1-score   support\n",
      "\n",
      "           0       0.88      1.00      0.93     56499\n",
      "           1       1.00      0.86      0.92     56499\n",
      "\n",
      "    accuracy                           0.93    112998\n",
      "   macro avg       0.94      0.93      0.93    112998\n",
      "weighted avg       0.94      0.93      0.93    112998\n",
      "\n",
      "\n",
      "*******Logistic Regression********\n",
      "\n",
      "Accuracy Score for test data: 0.946\n",
      "\n",
      "\n",
      "              precision    recall  f1-score   support\n",
      "\n",
      "           0       0.92      0.97      0.95     56499\n",
      "           1       0.97      0.92      0.94     56499\n",
      "\n",
      "    accuracy                           0.95    112998\n",
      "   macro avg       0.95      0.95      0.95    112998\n",
      "weighted avg       0.95      0.95      0.95    112998\n",
      "\n"
     ]
    }
   ],
   "source": [
    "print ('\\n ******RandomForest Classifer*******\\n')\n",
    "\n",
    "print('Accuracy Score with Test Data:', np.round(clf_tuned.score(X_test, y_test), decimals = 3))\n",
    "print('\\n')\n",
    "random_forest_report_tuned = classification_report(y_test, y_pred_rf)\n",
    "print(random_forest_report_tuned)\n",
    "\n",
    "print('\\n*******Logistic Regression********\\n')\n",
    "#print ('\\n\\n')\n",
    "y_pred_log = log_tuned.predict(X_test)\n",
    "print('Accuracy Score for test data:', np.round(log.score(X_test, y_test), decimals = 3))\n",
    "print('\\n')\n",
    "log_report_tuned = classification_report(y_test, y_pred_log)\n",
    "print(log_report_tuned)"
   ]
  },
  {
   "cell_type": "markdown",
   "metadata": {
    "id": "FX4jpMtkPahj"
   },
   "source": [
    "**Observation**\n",
    "\n",
    "Accuracy of Logistic Regression technique is better than Random Forest.\n",
    "\n",
    "Although accuracy of logistic regression is better, we can Random Forest has a higher precision rate in predicting fraudulent transactions.\n",
    "\n",
    "Also the recall of Random Foreset is higher indicating a less False negative cases."
   ]
  },
  {
   "cell_type": "markdown",
   "metadata": {
    "id": "tiQJD55ZRPU0"
   },
   "source": [
    "### **Confusion Matrix**"
   ]
  },
  {
   "cell_type": "code",
   "execution_count": 160,
   "metadata": {
    "colab": {
     "base_uri": "https://localhost:8080/",
     "height": 1000
    },
    "id": "Z6CPrvCLRZUH",
    "outputId": "5afa567b-2920-4a26-9384-2030c11e646f"
   },
   "outputs": [
    {
     "name": "stdout",
     "output_type": "stream",
     "text": [
      "\n",
      " ******\u001b[1mRandomForest Classifer\u001b[0m*******\n",
      "\n"
     ]
    },
    {
     "data": {
      "image/png": "[encoded data removed]",
      "text/plain": [
       "<Figure size 1224x576 with 2 Axes>"
      ]
     },
     "metadata": {
      "needs_background": "light"
     },
     "output_type": "display_data"
    },
    {
     "name": "stdout",
     "output_type": "stream",
     "text": [
      "\n",
      " ******\u001b[1mLogistic Regression\u001b[0m*******\n",
      "\n"
     ]
    },
    {
     "data": {
      "image/png": "[encoded data removed]",
      "text/plain": [
       "<Figure size 1224x576 with 2 Axes>"
      ]
     },
     "metadata": {
      "needs_background": "light"
     },
     "output_type": "display_data"
    }
   ],
   "source": [
    "print ('\\n ******'+ '\\033[1m'+'RandomForest Classifer'+'\\033[0m'+'*******\\n')\n",
    "fig, ax1 = plt.subplots(nrows = 1, ncols = 1, sharex = False, figsize=(17, 8))\n",
    "plot_confusion_matrix(estimator = clf_tuned, X = X_test, y_true = y_test, values_format = '.5g', cmap = 'BuGn', ax = ax1)\n",
    "\n",
    "ax1.set_title(label = 'Test Data', size = 14)\n",
    "\n",
    "ax1.grid(b = False)\n",
    "\n",
    "plt.suptitle(t = 'Confusion Matrix', size = 16)\n",
    "plt.show()\n",
    "\n",
    "print ('\\n ******'+ '\\033[1m'+'Logistic Regression'+'\\033[0m'+'*******\\n')\n",
    "fig, ax1 = plt.subplots(nrows = 1, ncols = 1, sharex = False, figsize=(17, 8))\n",
    "plot_confusion_matrix(estimator = log_tuned, X = X_test, y_true = y_test, values_format = '.5g', cmap = 'BuGn', ax = ax1)\n",
    "\n",
    "ax1.set_title(label = 'Test Data', size = 14)\n",
    "\n",
    "ax1.grid(b = False)\n",
    "\n",
    "plt.suptitle(t = 'Confusion Matrix', size = 16)\n",
    "plt.show()"
   ]
  },
  {
   "cell_type": "markdown",
   "metadata": {
    "id": "yWk0CAQBWT2t"
   },
   "source": [
    "**Observation**\n",
    "\n",
    "False positives are lesser in the case of RandomForest Classifier. This will be good for satisfying requirement1\n",
    "\n",
    "False negatives are lesser in the case of Logistic regression. This is good for satisfying requirement2."
   ]
  },
  {
   "cell_type": "markdown",
   "metadata": {
    "id": "Grp53ANyZWWy"
   },
   "source": [
    "### c) Model selection (ROC or other charts)"
   ]
  },
  {
   "cell_type": "code",
   "execution_count": 164,
   "metadata": {
    "colab": {
     "base_uri": "https://localhost:8080/",
     "height": 293
    },
    "id": "MikfPrtHZWWy",
    "outputId": "da3ddd63-c645-4f37-f220-a5f10a0b972f"
   },
   "outputs": [
    {
     "data": {
      "image/png": "[encoded data removed]",
      "text/plain": [
       "<Figure size 432x288 with 1 Axes>"
      ]
     },
     "metadata": {
      "needs_background": "light"
     },
     "output_type": "display_data"
    }
   ],
   "source": [
    "from sklearn import metrics\n",
    "probab = clf_tuned.predict_proba(X_test)\n",
    "predi = probab[:,1]\n",
    "fpr_rf, tpr_rf, threshold_rf = metrics.roc_curve(y_test, y_pred_rf)\n",
    "fpr_log, tpr_log, threshold_log = metrics.roc_curve(y_test, y_pred_log)\n",
    "roc_auc_rf = metrics.auc(fpr_rf, tpr_rf)\n",
    "roc_auc_mlp = metrics.auc(fpr_log, tpr_log)\n",
    "\n",
    "\n",
    "import matplotlib.pyplot as plt\n",
    "plt.title('Receiver Operating Characteristic(ROC)',fontdict={'size':10})\n",
    "plt.plot(fpr_rf, tpr_rf, 'b--', linewidth=0.8,label = 'AUC_RF = %0.2f' % roc_auc_rf)\n",
    "plt.plot(fpr_log, tpr_log, 'g--',linewidth=0.9, label = 'AUC_Log = %0.2f' % roc_auc_mlp)\n",
    "plt.legend(loc = 'lower right')\n",
    "plt.plot([0, 1], [0, 1],'r--',linewidth=1)\n",
    "plt.xlim([0, 1])\n",
    "plt.ylim([0, 1])\n",
    "plt.grid(linestyle='--', alpha=0.5)\n",
    "plt.ylabel('True Positive Rate')\n",
    "plt.xlabel('False Positive Rate')\n",
    "plt.gca().spines[\"top\"].set_alpha(.0)\n",
    "plt.gca().spines[\"bottom\"].set_alpha(.0)\n",
    "plt.gca().spines[\"right\"].set_alpha(.0)\n",
    "plt.gca().spines[\"left\"].set_alpha(.0)\n",
    "\n",
    "plt.show()"
   ]
  },
  {
   "cell_type": "markdown",
   "metadata": {
    "id": "a29AodKnc9ya"
   },
   "source": [
    "**Observation**\n",
    "\n",
    "The Area Under the Curve (AUC) - ROC curve is the performance statistic for classification issues at various threshold levels. AUC represents the degree or measure of separability, whereas ROC is a probability curve. It indicates how well the model can distinguish between classes. The AUC indicates how well the model predicts 0 classes as 0 and 1 courses as 1. The higher the AUC, the better the model predicts 0 classes as 0 and 1 classes as 1.\n",
    "\n",
    "In the above graph, X-axis is plotted with False Positive Rate against True Positive Rate in y-axis. From the graph we can see the Random Forest model gives a better performance than logistic regression as it is more inline with the true positive axis.\n"
   ]
  },
  {
   "cell_type": "markdown",
   "metadata": {
    "id": "R_v028AEZWWz"
   },
   "source": [
    "## 7. Final recommendation of best model"
   ]
  },
  {
   "cell_type": "markdown",
   "metadata": {
    "id": "GrtOlI6AZWWz"
   },
   "source": [
    "### a) Discussing the results from a technical perspective, for example, overfitting discussion, complexity and efficiency\n",
    "It was found that data set was highly imbalanced. This was resolved using oversampling technique.Random Forest and Logistic Regression are the two techniques applied to build the model.There seemed to be an overfitting issue with Random Forest as it was giving 100% accuracy with default parameters. This issue was kind of resolved using hyperparameter tuning. 10 fold Cross validation  is also performed to avoid any further overfitting. Logistic Regression was giving the same results before and after hyperparameter tuning. False positives were lesser with Random Forest and was giving a higher precision while predicting fraudulent transaction. False negatives were lesser in Logistic regression and giving a better recall compared to Random Forest. Even from the ROC graph, we can see the Random Forest model gives a better performance than logistic regression as it is more inline with the true positive axis.\n"
   ]
  },
  {
   "cell_type": "markdown",
   "metadata": {
    "id": "6iDqD6xnZWWz"
   },
   "source": [
    "### b) Discussing the results from a business perspective, for example, results interpretation, relevance and balance with technical perspective\n"
   ]
  },
  {
   "cell_type": "markdown",
   "metadata": {
    "id": "HhQE3Sla625E"
   },
   "source": [
    "**Checking Requirement**"
   ]
  },
  {
   "cell_type": "code",
   "execution_count": null,
   "metadata": {
    "id": "ifkMthgSkbNX"
   },
   "outputs": [],
   "source": [
    "\n",
    "df1=X_test\n",
    "df1.loc[:,'Class']=y_test"
   ]
  },
  {
   "cell_type": "code",
   "execution_count": 36,
   "metadata": {
    "colab": {
     "base_uri": "https://localhost:8080/"
    },
    "id": "NF-Dn9BvwVQ5",
    "outputId": "4145075b-76ba-416e-d231-224c63013aae"
   },
   "outputs": [
    {
     "data": {
      "text/plain": [
       "5017465.510000887"
      ]
     },
     "execution_count": 36,
     "metadata": {},
     "output_type": "execute_result"
    }
   ],
   "source": [
    "#Total sum of non-fraudulent transaction\n",
    "sum(df1[df1['Class']==0]['Amount'])"
   ]
  },
  {
   "cell_type": "code",
   "execution_count": 37,
   "metadata": {
    "colab": {
     "base_uri": "https://localhost:8080/"
    },
    "id": "00oYrvd8wyXT",
    "outputId": "102ae614-4641-4839-c7f8-84d70c2d571e"
   },
   "outputs": [
    {
     "data": {
      "text/plain": [
       "5902056.679229335"
      ]
     },
     "execution_count": 37,
     "metadata": {},
     "output_type": "execute_result"
    }
   ],
   "source": [
    "##Total amount involved in fraudulent transaction\n",
    "sum(df1[df1['Class']==1]['Amount'])"
   ]
  },
  {
   "cell_type": "code",
   "execution_count": null,
   "metadata": {
    "id": "13BO2LbxxSf5"
   },
   "outputs": [],
   "source": [
    "#Requirement1\n",
    "#Budget for 100m=20k\n",
    "#cost of non fraudulent transaction wrongly classified as fraudulent(False Positive)= 1k\n",
    "#So number of wrong transaction allowed for 100m=20\n",
    "#number of wrong transaction allowed for 5017465= (20/100)*5017465=1"
   ]
  },
  {
   "cell_type": "code",
   "execution_count": null,
   "metadata": {
    "id": "acXMavZhyUTj"
   },
   "outputs": [],
   "source": [
    "#Requirement 2\n",
    "#number of false negatives allowed for 200k = 5\n",
    "#number of false negatives for 59m=(5902056/200000)=29"
   ]
  },
  {
   "cell_type": "markdown",
   "metadata": {
    "id": "cM91igfl2GAk"
   },
   "source": [
    "**Requirement1**\n",
    "\n",
    "Out of the 56499 non-fraudlent transactions,174 transactions were wrongly predicted as fraud transactions. Total amount involved in non-fraudlent transactions was 5017465. So we are allowed only to have 1 non-fraudulent transaction to be wrongly predicted as fraudulent. In our case, the model base on Random Forest has predicted 174 transactions wrongly. So the model couldn't satisy requirement1.\n",
    "\n",
    "**Requirement2**\n",
    "\n",
    "Out of the 56499 fraud transactions,Random Forest couldn't classify 4680 as fraud. In the case of logistic regression, the number missed was 7736. \n",
    "Total amount involved in fraud transactions were 5902056. As per the requirement, number of fruad transaction we could miss for this amount was 29. So the model couldn't meet requirement2. \n",
    "\n",
    "**Conclusion**\n",
    "\n",
    "Since we have high number of data related to non-fraud transactions, the result of requirement 1 is much better than requirement 2. In the case of requirement 2, there was very less number of Fraud transactions available. Because of this, model might not be able to find a unique pattern about fraud transactions."
   ]
  },
  {
   "cell_type": "markdown",
   "metadata": {
    "id": "kjOx3ym8ZWWz"
   },
   "source": [
    "## 8. Conclusion"
   ]
  },
  {
   "cell_type": "markdown",
   "metadata": {
    "id": "kJKjE8YwZWWz"
   },
   "source": [
    "### a) What has been successfully accomplished and what has not been successful?\n",
    "Out of the 56499 non-fraud transactions, only 174 were misclassified. If we further fine tune our models, we could achieve the target in the requirement.Oversampling was successful as we could generate a well balanced dataset( atleast in numbers). \n",
    "\n",
    "56325 transactions were successfully classified as fraud transactions out of 56499 total number of transactions which is a good achievement\n",
    "\n",
    "Although the model has 99.69% success rate in detecting fraud transactions, the requirements given by the bank is not met by our model . The requirement is based on the amount not on the total number of transactions. Out of the two requirements, requirement2 was the least successful. Oversampling could balance the data set but it looks like it is not able to simulate a fraud transaction and hence model might not be to find a strong pattern "
   ]
  },
  {
   "cell_type": "markdown",
   "metadata": {
    "id": "2_q-ktvxZWWz"
   },
   "source": [
    "### b) Reflecting back on the analysis, what could you have done differently if you were to do the project again?\n",
    "Only two techniques were applied on this data. It would be interesting to see how other techniques like Convolutional Neural Network, SVM would have behaved with this data. Also, while doing hyperparameter tuning, data was undersampled as it was taking hours of time to run methods like gridsearchcv. It would be better to run it on a machine with more computing power. Also I would like to try some data mining tool like rapid miner to do some prototyping and produce schematic structure of the analysis. Some clustering methods like t-SNE could be used to cluster the cases that were and not fraud."
   ]
  },
  {
   "cell_type": "markdown",
   "metadata": {
    "id": "-ElZ0kYvZWWz"
   },
   "source": [
    "### c) Provide a wish list of future work that you would like to do\n"
   ]
  },
  {
   "cell_type": "markdown",
   "metadata": {
    "id": "En57YTur8T43"
   },
   "source": [
    "Since the models developed as part of this project didn't meet the requirements given by the bank, I would like to explore more fine tuning method. It would be challenging to design a better model which could satisfy the requirements. This might be because of the less availability of data related to fraud transactions. So I would like to identify some data sets which has more fraud transactions and merge it up with this data. This might help the model to identify a pattern about the fraudulent transactions."
   ]
  }
 ],
 "metadata": {
  "colab": {
   "collapsed_sections": [],
   "name": "Assessment3.ipynb",
   "provenance": []
  },
  "kernelspec": {
   "display_name": "Python 3",
   "language": "python",
   "name": "python3"
  },
  "language_info": {
   "codemirror_mode": {
    "name": "ipython",
    "version": 3
   },
   "file_extension": ".py",
   "mimetype": "text/x-python",
   "name": "python",
   "nbconvert_exporter": "python",
   "pygments_lexer": "ipython3",
   "version": "3.7.9"
  }
 },
 "nbformat": 4,
 "nbformat_minor": 1
}
